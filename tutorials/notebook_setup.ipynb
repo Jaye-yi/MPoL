{
 "cells": [
  {
   "cell_type": "code",
   "execution_count": 1,
   "id": "wooden-syracuse",
   "metadata": {
    "execution": {
     "iopub.execute_input": "2021-03-19T21:05:03.360896Z",
     "iopub.status.busy": "2021-03-19T21:05:03.360059Z",
     "iopub.status.idle": "2021-03-19T21:05:03.363000Z",
     "shell.execute_reply": "2021-03-19T21:05:03.363461Z"
    }
   },
   "outputs": [
    {
     "data": {
      "text/plain": [
       "'isort:skip_file'"
      ]
     },
     "execution_count": 1,
     "metadata": {},
     "output_type": "execute_result"
    }
   ],
   "source": [
    "# flake8: noqa\n",
    "\"\"\"isort:skip_file\"\"\""
   ]
  },
  {
   "cell_type": "markdown",
   "id": "lined-freeware",
   "metadata": {},
   "source": [
    "set some plotting styles, inspired by DFM\n",
    "https://github.com/exoplanet-dev/exoplanet/blob/main/docs/tutorials/notebook_setup.py"
   ]
  },
  {
   "cell_type": "code",
   "execution_count": 2,
   "id": "random-bottle",
   "metadata": {
    "execution": {
     "iopub.execute_input": "2021-03-19T21:05:03.378492Z",
     "iopub.status.busy": "2021-03-19T21:05:03.377871Z",
     "iopub.status.idle": "2021-03-19T21:05:03.380933Z",
     "shell.execute_reply": "2021-03-19T21:05:03.380399Z"
    }
   },
   "outputs": [],
   "source": [
    "get_ipython().magic('config InlineBackend.figure_format = \"retina\"')"
   ]
  },
  {
   "cell_type": "code",
   "execution_count": 3,
   "id": "virgin-fields",
   "metadata": {
    "execution": {
     "iopub.execute_input": "2021-03-19T21:05:03.385059Z",
     "iopub.status.busy": "2021-03-19T21:05:03.384478Z",
     "iopub.status.idle": "2021-03-19T21:05:03.663516Z",
     "shell.execute_reply": "2021-03-19T21:05:03.662579Z"
    }
   },
   "outputs": [],
   "source": [
    "import matplotlib.pyplot as plt"
   ]
  },
  {
   "cell_type": "code",
   "execution_count": 4,
   "id": "faced-scottish",
   "metadata": {
    "execution": {
     "iopub.execute_input": "2021-03-19T21:05:03.675597Z",
     "iopub.status.busy": "2021-03-19T21:05:03.674726Z",
     "iopub.status.idle": "2021-03-19T21:05:03.676584Z",
     "shell.execute_reply": "2021-03-19T21:05:03.676111Z"
    }
   },
   "outputs": [],
   "source": [
    "plt.style.use(\"default\")\n",
    "plt.rcParams[\"savefig.dpi\"] = 120\n",
    "plt.rcParams[\"figure.dpi\"] = 120\n",
    "plt.rcParams[\"font.size\"] = 12\n",
    "plt.rcParams[\"legend.framealpha\"] = 1\n",
    "plt.rcParams[\"legend.frameon\"] = False"
   ]
  }
 ],
 "metadata": {
  "kernelspec": {
   "display_name": "Python 3",
   "language": "python",
   "name": "python3"
  },
  "language_info": {
   "codemirror_mode": {
    "name": "ipython",
    "version": 3
   },
   "file_extension": ".py",
   "mimetype": "text/x-python",
   "name": "python",
   "nbconvert_exporter": "python",
   "pygments_lexer": "ipython3",
   "version": "3.8.8"
  }
 },
 "nbformat": 4,
 "nbformat_minor": 5
}
