{
 "cells": [
  {
   "cell_type": "code",
   "execution_count": 1,
   "id": "collective-bowling",
   "metadata": {
    "execution": {
     "iopub.execute_input": "2021-03-19T22:54:29.521741Z",
     "iopub.status.busy": "2021-03-19T22:54:29.516500Z",
     "iopub.status.idle": "2021-03-19T22:54:29.524081Z",
     "shell.execute_reply": "2021-03-19T22:54:29.523499Z"
    }
   },
   "outputs": [
    {
     "data": {
      "text/plain": [
       "'isort:skip_file'"
      ]
     },
     "execution_count": 1,
     "metadata": {},
     "output_type": "execute_result"
    }
   ],
   "source": [
    "# flake8: noqa\n",
    "\"\"\"isort:skip_file\"\"\""
   ]
  },
  {
   "cell_type": "markdown",
   "id": "hungry-swedish",
   "metadata": {},
   "source": [
    "set some plotting styles, inspired by DFM\n",
    "https://github.com/exoplanet-dev/exoplanet/blob/main/docs/tutorials/notebook_setup.py"
   ]
  },
  {
   "cell_type": "code",
   "execution_count": 2,
   "id": "united-lambda",
   "metadata": {
    "execution": {
     "iopub.execute_input": "2021-03-19T22:54:29.535447Z",
     "iopub.status.busy": "2021-03-19T22:54:29.534348Z",
     "iopub.status.idle": "2021-03-19T22:54:29.536486Z",
     "shell.execute_reply": "2021-03-19T22:54:29.536947Z"
    }
   },
   "outputs": [],
   "source": [
    "get_ipython().magic('config InlineBackend.figure_format = \"retina\"')"
   ]
  },
  {
   "cell_type": "code",
   "execution_count": 3,
   "id": "vertical-consensus",
   "metadata": {
    "execution": {
     "iopub.execute_input": "2021-03-19T22:54:29.544903Z",
     "iopub.status.busy": "2021-03-19T22:54:29.544200Z",
     "iopub.status.idle": "2021-03-19T22:54:29.813358Z",
     "shell.execute_reply": "2021-03-19T22:54:29.812874Z"
    }
   },
   "outputs": [],
   "source": [
    "import matplotlib.pyplot as plt"
   ]
  },
  {
   "cell_type": "code",
   "execution_count": 4,
   "id": "controversial-dependence",
   "metadata": {
    "execution": {
     "iopub.execute_input": "2021-03-19T22:54:29.818994Z",
     "iopub.status.busy": "2021-03-19T22:54:29.818463Z",
     "iopub.status.idle": "2021-03-19T22:54:29.821675Z",
     "shell.execute_reply": "2021-03-19T22:54:29.822085Z"
    }
   },
   "outputs": [],
   "source": [
    "plt.style.use(\"default\")\n",
    "plt.rcParams[\"savefig.dpi\"] = 120\n",
    "plt.rcParams[\"figure.dpi\"] = 120\n",
    "plt.rcParams[\"font.size\"] = 12\n",
    "plt.rcParams[\"legend.framealpha\"] = 1\n",
    "plt.rcParams[\"legend.frameon\"] = False"
   ]
  }
 ],
 "metadata": {
  "kernelspec": {
   "display_name": "Python 3",
   "language": "python",
   "name": "python3"
  },
  "language_info": {
   "codemirror_mode": {
    "name": "ipython",
    "version": 3
   },
   "file_extension": ".py",
   "mimetype": "text/x-python",
   "name": "python",
   "nbconvert_exporter": "python",
   "pygments_lexer": "ipython3",
   "version": "3.8.8"
  }
 },
 "nbformat": 4,
 "nbformat_minor": 5
}
