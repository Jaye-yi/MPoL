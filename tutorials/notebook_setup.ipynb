{
 "cells": [
  {
   "cell_type": "code",
   "execution_count": 1,
   "id": "catholic-indicator",
   "metadata": {
    "execution": {
     "iopub.execute_input": "2021-03-19T21:17:38.183757Z",
     "iopub.status.busy": "2021-03-19T21:17:38.183059Z",
     "iopub.status.idle": "2021-03-19T21:17:38.187371Z",
     "shell.execute_reply": "2021-03-19T21:17:38.187792Z"
    }
   },
   "outputs": [
    {
     "data": {
      "text/plain": [
       "'isort:skip_file'"
      ]
     },
     "execution_count": 1,
     "metadata": {},
     "output_type": "execute_result"
    }
   ],
   "source": [
    "# flake8: noqa\n",
    "\"\"\"isort:skip_file\"\"\""
   ]
  },
  {
   "cell_type": "markdown",
   "id": "fifteen-malaysia",
   "metadata": {},
   "source": [
    "set some plotting styles, inspired by DFM\n",
    "https://github.com/exoplanet-dev/exoplanet/blob/main/docs/tutorials/notebook_setup.py"
   ]
  },
  {
   "cell_type": "code",
   "execution_count": 2,
   "id": "paperback-terrain",
   "metadata": {
    "execution": {
     "iopub.execute_input": "2021-03-19T21:17:38.198556Z",
     "iopub.status.busy": "2021-03-19T21:17:38.197273Z",
     "iopub.status.idle": "2021-03-19T21:17:38.199148Z",
     "shell.execute_reply": "2021-03-19T21:17:38.199583Z"
    }
   },
   "outputs": [],
   "source": [
    "get_ipython().magic('config InlineBackend.figure_format = \"retina\"')"
   ]
  },
  {
   "cell_type": "code",
   "execution_count": 3,
   "id": "cooperative-determination",
   "metadata": {
    "execution": {
     "iopub.execute_input": "2021-03-19T21:17:38.203262Z",
     "iopub.status.busy": "2021-03-19T21:17:38.202740Z",
     "iopub.status.idle": "2021-03-19T21:17:38.471848Z",
     "shell.execute_reply": "2021-03-19T21:17:38.471301Z"
    }
   },
   "outputs": [],
   "source": [
    "import matplotlib.pyplot as plt"
   ]
  },
  {
   "cell_type": "code",
   "execution_count": 4,
   "id": "racial-message",
   "metadata": {
    "execution": {
     "iopub.execute_input": "2021-03-19T21:17:38.477541Z",
     "iopub.status.busy": "2021-03-19T21:17:38.476944Z",
     "iopub.status.idle": "2021-03-19T21:17:38.480372Z",
     "shell.execute_reply": "2021-03-19T21:17:38.480827Z"
    }
   },
   "outputs": [],
   "source": [
    "plt.style.use(\"default\")\n",
    "plt.rcParams[\"savefig.dpi\"] = 120\n",
    "plt.rcParams[\"figure.dpi\"] = 120\n",
    "plt.rcParams[\"font.size\"] = 12\n",
    "plt.rcParams[\"legend.framealpha\"] = 1\n",
    "plt.rcParams[\"legend.frameon\"] = False"
   ]
  }
 ],
 "metadata": {
  "kernelspec": {
   "display_name": "Python 3",
   "language": "python",
   "name": "python3"
  },
  "language_info": {
   "codemirror_mode": {
    "name": "ipython",
    "version": 3
   },
   "file_extension": ".py",
   "mimetype": "text/x-python",
   "name": "python",
   "nbconvert_exporter": "python",
   "pygments_lexer": "ipython3",
   "version": "3.8.8"
  }
 },
 "nbformat": 4,
 "nbformat_minor": 5
}
