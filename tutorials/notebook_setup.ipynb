{
 "cells": [
  {
   "cell_type": "code",
   "execution_count": 1,
   "id": "cooked-focus",
   "metadata": {
    "execution": {
     "iopub.execute_input": "2021-03-19T23:09:13.900027Z",
     "iopub.status.busy": "2021-03-19T23:09:13.899467Z",
     "iopub.status.idle": "2021-03-19T23:09:13.913009Z",
     "shell.execute_reply": "2021-03-19T23:09:13.913731Z"
    }
   },
   "outputs": [
    {
     "data": {
      "text/plain": [
       "'isort:skip_file'"
      ]
     },
     "execution_count": 1,
     "metadata": {},
     "output_type": "execute_result"
    }
   ],
   "source": [
    "# flake8: noqa\n",
    "\"\"\"isort:skip_file\"\"\""
   ]
  },
  {
   "cell_type": "markdown",
   "id": "heated-mississippi",
   "metadata": {},
   "source": [
    "set some plotting styles, inspired by DFM\n",
    "https://github.com/exoplanet-dev/exoplanet/blob/main/docs/tutorials/notebook_setup.py"
   ]
  },
  {
   "cell_type": "code",
   "execution_count": 2,
   "id": "associate-liability",
   "metadata": {
    "execution": {
     "iopub.execute_input": "2021-03-19T23:09:13.926154Z",
     "iopub.status.busy": "2021-03-19T23:09:13.924733Z",
     "iopub.status.idle": "2021-03-19T23:09:13.926793Z",
     "shell.execute_reply": "2021-03-19T23:09:13.927256Z"
    }
   },
   "outputs": [],
   "source": [
    "get_ipython().magic('config InlineBackend.figure_format = \"retina\"')"
   ]
  },
  {
   "cell_type": "code",
   "execution_count": 3,
   "id": "unusual-effects",
   "metadata": {
    "execution": {
     "iopub.execute_input": "2021-03-19T23:09:13.931674Z",
     "iopub.status.busy": "2021-03-19T23:09:13.931066Z",
     "iopub.status.idle": "2021-03-19T23:09:14.222035Z",
     "shell.execute_reply": "2021-03-19T23:09:14.221037Z"
    }
   },
   "outputs": [],
   "source": [
    "import matplotlib.pyplot as plt"
   ]
  },
  {
   "cell_type": "code",
   "execution_count": 4,
   "id": "grave-packet",
   "metadata": {
    "execution": {
     "iopub.execute_input": "2021-03-19T23:09:14.228643Z",
     "iopub.status.busy": "2021-03-19T23:09:14.227999Z",
     "iopub.status.idle": "2021-03-19T23:09:14.231393Z",
     "shell.execute_reply": "2021-03-19T23:09:14.231856Z"
    }
   },
   "outputs": [],
   "source": [
    "plt.style.use(\"default\")\n",
    "plt.rcParams[\"savefig.dpi\"] = 120\n",
    "plt.rcParams[\"figure.dpi\"] = 120\n",
    "plt.rcParams[\"font.size\"] = 12\n",
    "plt.rcParams[\"legend.framealpha\"] = 1\n",
    "plt.rcParams[\"legend.frameon\"] = False"
   ]
  }
 ],
 "metadata": {
  "kernelspec": {
   "display_name": "Python 3",
   "language": "python",
   "name": "python3"
  },
  "language_info": {
   "codemirror_mode": {
    "name": "ipython",
    "version": 3
   },
   "file_extension": ".py",
   "mimetype": "text/x-python",
   "name": "python",
   "nbconvert_exporter": "python",
   "pygments_lexer": "ipython3",
   "version": "3.8.8"
  }
 },
 "nbformat": 4,
 "nbformat_minor": 5
}
