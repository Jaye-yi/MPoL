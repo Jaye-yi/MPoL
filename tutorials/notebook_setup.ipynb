{
 "cells": [
  {
   "cell_type": "code",
   "execution_count": 1,
   "id": "measured-hindu",
   "metadata": {
    "execution": {
     "iopub.execute_input": "2021-03-19T19:38:19.056755Z",
     "iopub.status.busy": "2021-03-19T19:38:19.055622Z",
     "iopub.status.idle": "2021-03-19T19:38:19.059089Z",
     "shell.execute_reply": "2021-03-19T19:38:19.059556Z"
    }
   },
   "outputs": [
    {
     "data": {
      "text/plain": [
       "'isort:skip_file'"
      ]
     },
     "execution_count": 1,
     "metadata": {},
     "output_type": "execute_result"
    }
   ],
   "source": [
    "# flake8: noqa\n",
    "\"\"\"isort:skip_file\"\"\""
   ]
  },
  {
   "cell_type": "markdown",
   "id": "casual-growth",
   "metadata": {},
   "source": [
    "set some plotting styles, inspired by DFM\n",
    "https://github.com/exoplanet-dev/exoplanet/blob/main/docs/tutorials/notebook_setup.py"
   ]
  },
  {
   "cell_type": "code",
   "execution_count": 2,
   "id": "weighted-allowance",
   "metadata": {
    "execution": {
     "iopub.execute_input": "2021-03-19T19:38:19.072287Z",
     "iopub.status.busy": "2021-03-19T19:38:19.070982Z",
     "iopub.status.idle": "2021-03-19T19:38:19.072895Z",
     "shell.execute_reply": "2021-03-19T19:38:19.073321Z"
    }
   },
   "outputs": [],
   "source": [
    "get_ipython().magic('config InlineBackend.figure_format = \"retina\"')"
   ]
  },
  {
   "cell_type": "code",
   "execution_count": 3,
   "id": "little-costume",
   "metadata": {
    "execution": {
     "iopub.execute_input": "2021-03-19T19:38:19.077208Z",
     "iopub.status.busy": "2021-03-19T19:38:19.076689Z",
     "iopub.status.idle": "2021-03-19T19:38:19.365406Z",
     "shell.execute_reply": "2021-03-19T19:38:19.364415Z"
    }
   },
   "outputs": [],
   "source": [
    "import matplotlib.pyplot as plt"
   ]
  },
  {
   "cell_type": "code",
   "execution_count": 4,
   "id": "chicken-ratio",
   "metadata": {
    "execution": {
     "iopub.execute_input": "2021-03-19T19:38:19.371416Z",
     "iopub.status.busy": "2021-03-19T19:38:19.370872Z",
     "iopub.status.idle": "2021-03-19T19:38:19.374877Z",
     "shell.execute_reply": "2021-03-19T19:38:19.373882Z"
    }
   },
   "outputs": [],
   "source": [
    "plt.style.use(\"default\")\n",
    "plt.rcParams[\"savefig.dpi\"] = 120\n",
    "plt.rcParams[\"figure.dpi\"] = 120\n",
    "plt.rcParams[\"font.size\"] = 12\n",
    "plt.rcParams[\"legend.framealpha\"] = 1\n",
    "plt.rcParams[\"legend.frameon\"] = False"
   ]
  }
 ],
 "metadata": {
  "kernelspec": {
   "display_name": "Python 3",
   "language": "python",
   "name": "python3"
  },
  "language_info": {
   "codemirror_mode": {
    "name": "ipython",
    "version": 3
   },
   "file_extension": ".py",
   "mimetype": "text/x-python",
   "name": "python",
   "nbconvert_exporter": "python",
   "pygments_lexer": "ipython3",
   "version": "3.8.8"
  }
 },
 "nbformat": 4,
 "nbformat_minor": 5
}
