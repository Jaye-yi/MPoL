{
 "cells": [
  {
   "cell_type": "code",
   "execution_count": 1,
   "id": "blond-permit",
   "metadata": {
    "execution": {
     "iopub.execute_input": "2021-03-19T20:24:17.676802Z",
     "iopub.status.busy": "2021-03-19T20:24:17.676217Z",
     "iopub.status.idle": "2021-03-19T20:24:17.679056Z",
     "shell.execute_reply": "2021-03-19T20:24:17.679496Z"
    }
   },
   "outputs": [
    {
     "data": {
      "text/plain": [
       "'isort:skip_file'"
      ]
     },
     "execution_count": 1,
     "metadata": {},
     "output_type": "execute_result"
    }
   ],
   "source": [
    "# flake8: noqa\n",
    "\"\"\"isort:skip_file\"\"\""
   ]
  },
  {
   "cell_type": "markdown",
   "id": "welsh-sherman",
   "metadata": {},
   "source": [
    "set some plotting styles, inspired by DFM\n",
    "https://github.com/exoplanet-dev/exoplanet/blob/main/docs/tutorials/notebook_setup.py"
   ]
  },
  {
   "cell_type": "code",
   "execution_count": 2,
   "id": "acoustic-plymouth",
   "metadata": {
    "execution": {
     "iopub.execute_input": "2021-03-19T20:24:17.690205Z",
     "iopub.status.busy": "2021-03-19T20:24:17.687042Z",
     "iopub.status.idle": "2021-03-19T20:24:17.692261Z",
     "shell.execute_reply": "2021-03-19T20:24:17.691807Z"
    }
   },
   "outputs": [],
   "source": [
    "get_ipython().magic('config InlineBackend.figure_format = \"retina\"')"
   ]
  },
  {
   "cell_type": "code",
   "execution_count": 3,
   "id": "exciting-tongue",
   "metadata": {
    "execution": {
     "iopub.execute_input": "2021-03-19T20:24:17.696025Z",
     "iopub.status.busy": "2021-03-19T20:24:17.695499Z",
     "iopub.status.idle": "2021-03-19T20:24:17.996789Z",
     "shell.execute_reply": "2021-03-19T20:24:17.994389Z"
    }
   },
   "outputs": [],
   "source": [
    "import matplotlib.pyplot as plt"
   ]
  },
  {
   "cell_type": "code",
   "execution_count": 4,
   "id": "local-possibility",
   "metadata": {
    "execution": {
     "iopub.execute_input": "2021-03-19T20:24:18.003392Z",
     "iopub.status.busy": "2021-03-19T20:24:18.002111Z",
     "iopub.status.idle": "2021-03-19T20:24:18.003998Z",
     "shell.execute_reply": "2021-03-19T20:24:18.004430Z"
    }
   },
   "outputs": [],
   "source": [
    "plt.style.use(\"default\")\n",
    "plt.rcParams[\"savefig.dpi\"] = 120\n",
    "plt.rcParams[\"figure.dpi\"] = 120\n",
    "plt.rcParams[\"font.size\"] = 12\n",
    "plt.rcParams[\"legend.framealpha\"] = 1\n",
    "plt.rcParams[\"legend.frameon\"] = False"
   ]
  }
 ],
 "metadata": {
  "kernelspec": {
   "display_name": "Python 3",
   "language": "python",
   "name": "python3"
  },
  "language_info": {
   "codemirror_mode": {
    "name": "ipython",
    "version": 3
   },
   "file_extension": ".py",
   "mimetype": "text/x-python",
   "name": "python",
   "nbconvert_exporter": "python",
   "pygments_lexer": "ipython3",
   "version": "3.8.8"
  }
 },
 "nbformat": 4,
 "nbformat_minor": 5
}
