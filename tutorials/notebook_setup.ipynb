{
 "cells": [
  {
   "cell_type": "code",
   "execution_count": 1,
   "id": "substantial-brass",
   "metadata": {
    "execution": {
     "iopub.execute_input": "2021-03-19T20:03:43.714280Z",
     "iopub.status.busy": "2021-03-19T20:03:43.713596Z",
     "iopub.status.idle": "2021-03-19T20:03:43.727168Z",
     "shell.execute_reply": "2021-03-19T20:03:43.727870Z"
    }
   },
   "outputs": [
    {
     "data": {
      "text/plain": [
       "'isort:skip_file'"
      ]
     },
     "execution_count": 1,
     "metadata": {},
     "output_type": "execute_result"
    }
   ],
   "source": [
    "# flake8: noqa\n",
    "\"\"\"isort:skip_file\"\"\""
   ]
  },
  {
   "cell_type": "markdown",
   "id": "particular-consideration",
   "metadata": {},
   "source": [
    "set some plotting styles, inspired by DFM\n",
    "https://github.com/exoplanet-dev/exoplanet/blob/main/docs/tutorials/notebook_setup.py"
   ]
  },
  {
   "cell_type": "code",
   "execution_count": 2,
   "id": "martial-shirt",
   "metadata": {
    "execution": {
     "iopub.execute_input": "2021-03-19T20:03:43.740022Z",
     "iopub.status.busy": "2021-03-19T20:03:43.738585Z",
     "iopub.status.idle": "2021-03-19T20:03:43.740676Z",
     "shell.execute_reply": "2021-03-19T20:03:43.741111Z"
    }
   },
   "outputs": [],
   "source": [
    "get_ipython().magic('config InlineBackend.figure_format = \"retina\"')"
   ]
  },
  {
   "cell_type": "code",
   "execution_count": 3,
   "id": "introductory-bottle",
   "metadata": {
    "execution": {
     "iopub.execute_input": "2021-03-19T20:03:43.745462Z",
     "iopub.status.busy": "2021-03-19T20:03:43.744835Z",
     "iopub.status.idle": "2021-03-19T20:03:44.024583Z",
     "shell.execute_reply": "2021-03-19T20:03:44.023929Z"
    }
   },
   "outputs": [],
   "source": [
    "import matplotlib.pyplot as plt"
   ]
  },
  {
   "cell_type": "code",
   "execution_count": 4,
   "id": "subject-lebanon",
   "metadata": {
    "execution": {
     "iopub.execute_input": "2021-03-19T20:03:44.031095Z",
     "iopub.status.busy": "2021-03-19T20:03:44.030448Z",
     "iopub.status.idle": "2021-03-19T20:03:44.035332Z",
     "shell.execute_reply": "2021-03-19T20:03:44.035902Z"
    }
   },
   "outputs": [],
   "source": [
    "plt.style.use(\"default\")\n",
    "plt.rcParams[\"savefig.dpi\"] = 120\n",
    "plt.rcParams[\"figure.dpi\"] = 120\n",
    "plt.rcParams[\"font.size\"] = 12\n",
    "plt.rcParams[\"legend.framealpha\"] = 1\n",
    "plt.rcParams[\"legend.frameon\"] = False"
   ]
  }
 ],
 "metadata": {
  "kernelspec": {
   "display_name": "Python 3",
   "language": "python",
   "name": "python3"
  },
  "language_info": {
   "codemirror_mode": {
    "name": "ipython",
    "version": 3
   },
   "file_extension": ".py",
   "mimetype": "text/x-python",
   "name": "python",
   "nbconvert_exporter": "python",
   "pygments_lexer": "ipython3",
   "version": "3.8.8"
  }
 },
 "nbformat": 4,
 "nbformat_minor": 5
}
