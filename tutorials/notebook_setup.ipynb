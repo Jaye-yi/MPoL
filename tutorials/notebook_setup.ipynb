{
 "cells": [
  {
   "cell_type": "code",
   "execution_count": 1,
   "id": "immediate-queue",
   "metadata": {
    "execution": {
     "iopub.execute_input": "2021-03-19T20:11:43.084636Z",
     "iopub.status.busy": "2021-03-19T20:11:43.084120Z",
     "iopub.status.idle": "2021-03-19T20:11:43.095600Z",
     "shell.execute_reply": "2021-03-19T20:11:43.095924Z"
    }
   },
   "outputs": [
    {
     "data": {
      "text/plain": [
       "'isort:skip_file'"
      ]
     },
     "execution_count": 1,
     "metadata": {},
     "output_type": "execute_result"
    }
   ],
   "source": [
    "# flake8: noqa\n",
    "\"\"\"isort:skip_file\"\"\""
   ]
  },
  {
   "cell_type": "markdown",
   "id": "expected-airfare",
   "metadata": {},
   "source": [
    "set some plotting styles, inspired by DFM\n",
    "https://github.com/exoplanet-dev/exoplanet/blob/main/docs/tutorials/notebook_setup.py"
   ]
  },
  {
   "cell_type": "code",
   "execution_count": 2,
   "id": "aggregate-collect",
   "metadata": {
    "execution": {
     "iopub.execute_input": "2021-03-19T20:11:43.104799Z",
     "iopub.status.busy": "2021-03-19T20:11:43.104075Z",
     "iopub.status.idle": "2021-03-19T20:11:43.105807Z",
     "shell.execute_reply": "2021-03-19T20:11:43.105465Z"
    }
   },
   "outputs": [],
   "source": [
    "get_ipython().magic('config InlineBackend.figure_format = \"retina\"')"
   ]
  },
  {
   "cell_type": "code",
   "execution_count": 3,
   "id": "ahead-burning",
   "metadata": {
    "execution": {
     "iopub.execute_input": "2021-03-19T20:11:43.108645Z",
     "iopub.status.busy": "2021-03-19T20:11:43.108241Z",
     "iopub.status.idle": "2021-03-19T20:11:43.319737Z",
     "shell.execute_reply": "2021-03-19T20:11:43.318942Z"
    }
   },
   "outputs": [],
   "source": [
    "import matplotlib.pyplot as plt"
   ]
  },
  {
   "cell_type": "code",
   "execution_count": 4,
   "id": "thick-failure",
   "metadata": {
    "execution": {
     "iopub.execute_input": "2021-03-19T20:11:43.324526Z",
     "iopub.status.busy": "2021-03-19T20:11:43.324098Z",
     "iopub.status.idle": "2021-03-19T20:11:43.326904Z",
     "shell.execute_reply": "2021-03-19T20:11:43.326560Z"
    }
   },
   "outputs": [],
   "source": [
    "plt.style.use(\"default\")\n",
    "plt.rcParams[\"savefig.dpi\"] = 120\n",
    "plt.rcParams[\"figure.dpi\"] = 120\n",
    "plt.rcParams[\"font.size\"] = 12\n",
    "plt.rcParams[\"legend.framealpha\"] = 1\n",
    "plt.rcParams[\"legend.frameon\"] = False"
   ]
  }
 ],
 "metadata": {
  "kernelspec": {
   "display_name": "Python 3",
   "language": "python",
   "name": "python3"
  },
  "language_info": {
   "codemirror_mode": {
    "name": "ipython",
    "version": 3
   },
   "file_extension": ".py",
   "mimetype": "text/x-python",
   "name": "python",
   "nbconvert_exporter": "python",
   "pygments_lexer": "ipython3",
   "version": "3.8.8"
  }
 },
 "nbformat": 4,
 "nbformat_minor": 5
}
